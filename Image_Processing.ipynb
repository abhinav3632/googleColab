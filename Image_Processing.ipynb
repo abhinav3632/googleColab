{
  "nbformat": 4,
  "nbformat_minor": 0,
  "metadata": {
    "colab": {
      "provenance": [],
      "gpuType": "V28",
      "authorship_tag": "ABX9TyOrW2X4B9odt1Oj+OMhV4mS",
      "include_colab_link": true
    },
    "kernelspec": {
      "name": "python3",
      "display_name": "Python 3"
    },
    "language_info": {
      "name": "python"
    },
    "accelerator": "TPU"
  },
  "cells": [
    {
      "cell_type": "markdown",
      "metadata": {
        "id": "view-in-github",
        "colab_type": "text"
      },
      "source": [
        "<a href=\"https://colab.research.google.com/github/abhinav3632/googleColab/blob/main/Image_Processing.ipynb\" target=\"_parent\"><img src=\"https://colab.research.google.com/assets/colab-badge.svg\" alt=\"Open In Colab\"/></a>"
      ]
    },
    {
      "cell_type": "code",
      "execution_count": 1,
      "metadata": {
        "colab": {
          "base_uri": "https://localhost:8080/"
        },
        "id": "H7xjaZddfkxU",
        "outputId": "d8b1963d-c0f7-470b-ff8d-e2a585ad8012"
      },
      "outputs": [
        {
          "output_type": "stream",
          "name": "stdout",
          "text": [
            "gcc (Ubuntu 11.4.0-1ubuntu1~22.04) 11.4.0\n",
            "Copyright (C) 2021 Free Software Foundation, Inc.\n",
            "This is free software; see the source for copying conditions.  There is NO\n",
            "warranty; not even for MERCHANTABILITY or FITNESS FOR A PARTICULAR PURPOSE.\n",
            "\n"
          ]
        }
      ],
      "source": [
        "!gcc --version"
      ]
    },
    {
      "cell_type": "code",
      "source": [
        "%mkdir Blur_Version_1_Basics_OOPS\n"
      ],
      "metadata": {
        "id": "0Wtc1RFFf5vl"
      },
      "execution_count": 2,
      "outputs": []
    },
    {
      "cell_type": "code",
      "source": [
        " %cd /content/Blur_Version_1_Basics_OOPS"
      ],
      "metadata": {
        "colab": {
          "base_uri": "https://localhost:8080/"
        },
        "id": "e_QoA9IPgEmW",
        "outputId": "060ea546-4aa6-4d41-8675-d78c55853487"
      },
      "execution_count": 3,
      "outputs": [
        {
          "output_type": "stream",
          "name": "stdout",
          "text": [
            "/content/Blur_Version_1_Basics_OOPS\n"
          ]
        }
      ]
    },
    {
      "cell_type": "code",
      "source": [
        "!cmake -B build"
      ],
      "metadata": {
        "colab": {
          "base_uri": "https://localhost:8080/"
        },
        "id": "CkPvtYX2hdpf",
        "outputId": "7d1ddd59-00d7-4e55-af74-4a07fbbae496"
      },
      "execution_count": 4,
      "outputs": [
        {
          "output_type": "stream",
          "name": "stdout",
          "text": [
            "-- The C compiler identification is GNU 11.4.0\n",
            "-- The CXX compiler identification is GNU 11.4.0\n",
            "-- Detecting C compiler ABI info\n",
            "-- Detecting C compiler ABI info - done\n",
            "-- Check for working C compiler: /usr/bin/cc - skipped\n",
            "-- Detecting C compile features\n",
            "-- Detecting C compile features - done\n",
            "-- Detecting CXX compiler ABI info\n",
            "-- Detecting CXX compiler ABI info - done\n",
            "-- Check for working CXX compiler: /usr/bin/c++ - skipped\n",
            "-- Detecting CXX compile features\n",
            "-- Detecting CXX compile features - done\n",
            "-- Found OpenCV: /usr (found version \"4.5.4\")\n",
            "-- Configuring done (0.9s)\n",
            "-- Generating done (0.0s)\n",
            "-- Build files have been written to: /content/Blur_Version_1_Basics_OOPS/build\n"
          ]
        }
      ]
    },
    {
      "cell_type": "code",
      "source": [
        "%cd /content/Blur_Version_1_Basics_OOPS/build"
      ],
      "metadata": {
        "colab": {
          "base_uri": "https://localhost:8080/"
        },
        "id": "JohXcpNbhgMd",
        "outputId": "356c5bcc-4e29-474f-e584-648874ae35f2"
      },
      "execution_count": 5,
      "outputs": [
        {
          "output_type": "stream",
          "name": "stdout",
          "text": [
            "/content/Blur_Version_1_Basics_OOPS/build\n"
          ]
        }
      ]
    },
    {
      "cell_type": "code",
      "source": [
        "!make"
      ],
      "metadata": {
        "colab": {
          "base_uri": "https://localhost:8080/"
        },
        "id": "SUALNK8WhpnF",
        "outputId": "bda6e7fd-77b0-4056-bb3b-d65da2e34734"
      },
      "execution_count": 6,
      "outputs": [
        {
          "output_type": "stream",
          "name": "stdout",
          "text": [
            "[ 25%] \u001b[32mBuilding CXX object CMakeFiles/blur_filters.dir/Main.cpp.o\u001b[0m\n",
            "[ 50%] \u001b[32mBuilding CXX object CMakeFiles/blur_filters.dir/Image.cpp.o\u001b[0m\n",
            "[ 75%] \u001b[32mBuilding CXX object CMakeFiles/blur_filters.dir/Functionality.cpp.o\u001b[0m\n",
            "[100%] \u001b[32m\u001b[1mLinking CXX executable blur_filters\u001b[0m\n",
            "[100%] Built target blur_filters\n"
          ]
        }
      ]
    },
    {
      "cell_type": "code",
      "source": [
        "!./blur_filters"
      ],
      "metadata": {
        "colab": {
          "base_uri": "https://localhost:8080/"
        },
        "id": "j5Iue7-1hq9a",
        "outputId": "eb16802d-d157-4cb3-be3f-356fe45ed403"
      },
      "execution_count": 7,
      "outputs": [
        {
          "output_type": "stream",
          "name": "stdout",
          "text": [
            "Enter the kernel size (odd number):5\n",
            "Time Elapsed: 146.73ms\n"
          ]
        }
      ]
    },
    {
      "cell_type": "code",
      "source": [
        "%cd /content/Blur_Version_2_Parallelized"
      ],
      "metadata": {
        "colab": {
          "base_uri": "https://localhost:8080/"
        },
        "id": "OxvUFPeHiANx",
        "outputId": "24d712a1-a9f8-470e-c988-d5a2392e6b6b"
      },
      "execution_count": 12,
      "outputs": [
        {
          "output_type": "stream",
          "name": "stdout",
          "text": [
            "/content/Blur_Version_2_Parallelized\n"
          ]
        }
      ]
    },
    {
      "cell_type": "code",
      "source": [
        "%%writefile CMakeLists.txt\n",
        "cmake_minimum_required(VERSION 3.5)\n",
        "\n",
        "# Project Name\n",
        "project(BlurFilters VERSION 1.0)\n",
        "\n",
        "# C++ Standard\n",
        "set(CMAKE_CXX_STANDARD 17)\n",
        "set(CMAKE_CXX_STANDARD_REQUIRED True)\n",
        "set(CMAKE_CXX_FLAGS \"${CMAKE_CXX_FLAGS} -O3\")\n",
        "\n",
        "# Find OpenCV Package\n",
        "find_package(OpenCV REQUIRED)\n",
        "include_directories(${OpenCV_INCLUDE_DIRS})\n",
        "include_directories(${PROJECT_SOURCE_DIR}/Exceptions)\n",
        "\n",
        "# Add the Executable\n",
        "add_executable(blur_filters Main.cpp Image.cpp Functionality.cpp)\n",
        "\n",
        "# Link OpenCV libraries\n",
        "target_link_libraries(blur_filters ${OpenCV_LIBS} pthread)\n"
      ],
      "metadata": {
        "colab": {
          "base_uri": "https://localhost:8080/"
        },
        "id": "oLfWGM1CiHyg",
        "outputId": "3f7082f4-d7b0-411c-b78c-281016abb772"
      },
      "execution_count": 13,
      "outputs": [
        {
          "output_type": "stream",
          "name": "stdout",
          "text": [
            "Writing CMakeLists.txt\n"
          ]
        }
      ]
    },
    {
      "cell_type": "code",
      "source": [
        "%%writefile FilterType.h\n",
        "#ifndef FILTERTYPE_H\n",
        "#define FILTERTYPE_H\n",
        "\n",
        "/*\n",
        "    Enum Class for the type of filter\n",
        "*/\n",
        "\n",
        "enum class FilterType{\n",
        "    Box,\n",
        "    Blur,\n",
        "    Gaussian,\n",
        "    Median,\n",
        "    Custom\n",
        "};\n",
        "\n",
        "#endif // FILTERTYPE_H\n"
      ],
      "metadata": {
        "colab": {
          "base_uri": "https://localhost:8080/"
        },
        "id": "JDcdRPJ3iv_d",
        "outputId": "da3c7427-6dec-4eaf-ce76-32f3a9541804"
      },
      "execution_count": 15,
      "outputs": [
        {
          "output_type": "stream",
          "name": "stdout",
          "text": [
            "Overwriting FilterType.h\n"
          ]
        }
      ]
    },
    {
      "cell_type": "code",
      "source": [
        "%%writefile Functionality.cpp\n",
        "#include \"Functionality.h\"\n",
        "\n",
        "/*\n",
        "    applyFilter() takes a constant Image object, int variable and a enum class type variable\n",
        "    by l-value reference and performs the said blurring operations on it.\n",
        "*/\n",
        "void applyFilter(const Image &img, int kernelSize, FilterType type)\n",
        "{\n",
        "    /* Check if the kernelSize entered is odd or not */\n",
        "    if(kernelSize % 2 == 0 || kernelSize < 1){\n",
        "        throw InvalidKernelSizeError(\"Error: Kernel size must be a positive odd number.\", std::future_errc::no_state);\n",
        "    }\n",
        "\n",
        "    /* Resultant Matrix */\n",
        "    cv::Mat result;\n",
        "    std::string windowName;\n",
        "    //Define a custom kernel (eg: a simple averaging kernel)\n",
        "    cv::Mat customKernel = cv::Mat::ones(kernelSize, kernelSize, CV_32F)/ (float)(kernelSize*kernelSize);\n",
        "\n",
        "    switch(type){\n",
        "        case FilterType::Box:\n",
        "            cv::boxFilter(img.src_rgb(), result, -1, cv::Size(kernelSize, kernelSize));\n",
        "            windowName = \"Box Filter\";\n",
        "            break;\n",
        "\n",
        "        case FilterType::Blur:\n",
        "            cv::blur(img.src_rgb(), result, cv::Size(kernelSize, kernelSize));\n",
        "            windowName = \"Blur Filter\";\n",
        "            break;\n",
        "\n",
        "        case FilterType::Gaussian:\n",
        "            cv::GaussianBlur(img.src_rgb(), result, cv::Size(kernelSize, kernelSize), 0);\n",
        "            windowName = \"Gaussian Filter\";\n",
        "            break;\n",
        "\n",
        "        case FilterType::Median:\n",
        "            cv::medianBlur(img.src_rgb(), result, kernelSize);\n",
        "            windowName = \"Median Filter\";\n",
        "            break;\n",
        "\n",
        "        case FilterType::Custom:\n",
        "            cv::filter2D(img.src_rgb(), result, -1, customKernel);\n",
        "            windowName = \"Custom Filter\";\n",
        "            break;\n",
        "\n",
        "        default:\n",
        "            throw std::invalid_argument(\"Error: Invalid Filter Type.\");\n",
        "    }\n",
        "    /* Check whether a valid windowName was used*/\n",
        "    if(windowName.size() == 0 || windowName == \" \" || windowName == \"\"){\n",
        "        throw EmptyWindowNameError(\"Error: Window Name cannot be empty\" , std::future_errc::no_state);\n",
        "    }\n",
        "    /* Display function is executed to display the result*/\n",
        "    img.display(result, windowName);\n",
        "}\n"
      ],
      "metadata": {
        "colab": {
          "base_uri": "https://localhost:8080/"
        },
        "id": "d3rojdMoizk1",
        "outputId": "911a112a-9562-493c-f29a-b963682505e5"
      },
      "execution_count": 16,
      "outputs": [
        {
          "output_type": "stream",
          "name": "stdout",
          "text": [
            "Writing Functionality.cpp\n"
          ]
        }
      ]
    },
    {
      "cell_type": "code",
      "source": [
        "%%writefile Functionality.h\n",
        "#ifndef FUNCTIONALITY_H\n",
        "#define FUNCTIONALITY_H\n",
        "\n",
        "#include \"Image.h\"\n",
        "#include \"Exceptions/InvalidKernelSizeError.h\"\n",
        "#include \"Exceptions/EmptyWindowNameError.h\"\n",
        "#include \"FilterType.h\"\n",
        "\n",
        "/*\n",
        "    A function to apply the filter on the\n",
        "    given image\n",
        "    Input: given rgb image, kernel size\n",
        "    Output: blurred output image\n",
        "*/\n",
        "\n",
        "void applyFilter(const Image &img, int kernelSize, FilterType type);\n",
        "\n",
        "\n",
        "#endif // FUNCTIONALITY_H\n"
      ],
      "metadata": {
        "colab": {
          "base_uri": "https://localhost:8080/"
        },
        "id": "OMN1luAUi8vB",
        "outputId": "de6a3052-da74-460e-a07c-617f999a1c16"
      },
      "execution_count": 17,
      "outputs": [
        {
          "output_type": "stream",
          "name": "stdout",
          "text": [
            "Writing Functionality.h\n"
          ]
        }
      ]
    },
    {
      "cell_type": "code",
      "source": [
        "%%writefile Image.h\n",
        "#ifndef IMAGE_H\n",
        "#define IMAGE_H\n",
        "\n",
        "#include <iostream>\n",
        "#include <memory>\n",
        "#include <opencv2/opencv.hpp>\n",
        "#include \"Exceptions/EmptyImagePathError.h\"\n",
        "#include \"Exceptions/EmptyImageError.h\"\n",
        "\n",
        "class Image\n",
        "{\n",
        "private:\n",
        "    cv::Mat m_src_rgb; // Source image in rgb format\n",
        "    static std::unique_ptr<Image> instance; // Singleton instance\n",
        "\n",
        "    //Private Constructor\n",
        "    Image() = default; // Default constructor\n",
        "    Image(const std::string &imagePath); // Parameterized Constructor to load image\n",
        "\n",
        "public:\n",
        "    Image(const Image&) = delete; // Deleted copy constructor\n",
        "    Image& operator=(const Image&) = delete; // Deleted copy assignment\n",
        "    Image(Image&&) = delete; // Deleted move constructor\n",
        "    Image& operator=(Image&&) = delete; // Deleted move assignment\n",
        "    ~Image() = default;\n",
        "\n",
        "    static Image& getInstance(const std::string &imagePath = \" \");\n",
        "\n",
        "    cv::Mat src_rgb() const { return m_src_rgb;}\n",
        "\n",
        "    void display(const cv::Mat &image, const std::string &windowName) const; // Display image\n",
        "    static void closeAllWindows(); // Close all openCv windows\n",
        "};\n",
        "\n",
        "#endif // IMAGE_H\n"
      ],
      "metadata": {
        "colab": {
          "base_uri": "https://localhost:8080/"
        },
        "id": "fhOLnNndjEir",
        "outputId": "3c0dbb60-22b2-44f8-c4d9-fab1a8ac945f"
      },
      "execution_count": 18,
      "outputs": [
        {
          "output_type": "stream",
          "name": "stdout",
          "text": [
            "Writing Image.h\n"
          ]
        }
      ]
    },
    {
      "cell_type": "code",
      "source": [
        "%%writefile Image.cpp\n",
        "#include \"Image.h\"\n",
        "\n",
        "std::unique_ptr<Image> Image::instance = nullptr;\n",
        "\n",
        "/*\n",
        "    Image() constructor which takes std::string variable by l-value reference and initializes\n",
        "    the Image object with the image in the given path\n",
        "*/\n",
        "Image::Image(const std::string &imagePath)\n",
        "{\n",
        "    /* Check if a valid image Path was provided */\n",
        "    if(imagePath.size() == 0 || imagePath == \" \" || imagePath == \"\"){\n",
        "        throw EmptyImagePathError(\"Error: Invalid Image Path\", std::future_errc::no_state);\n",
        "    }\n",
        "    m_src_rgb = cv::imread(imagePath, cv::IMREAD_COLOR);\n",
        "    /* Check if the image is valid */\n",
        "    if(m_src_rgb.empty()){\n",
        "        throw EmptyImageError(\"Error: Unable to load image from given path.\", std::future_errc::no_state);\n",
        "        exit(1);\n",
        "    }\n",
        "}\n",
        "\n",
        "/*\n",
        "    getInstance() is a function which takes one constant std::string data type variable by l-value reference and the function returns a Image (class) by reference.\n",
        "*/\n",
        "Image& Image::getInstance(const std::string &imagePath){\n",
        "    if(!instance){\n",
        "        instance.reset(new Image(imagePath));\n",
        "    }\n",
        "    return *instance;\n",
        "}\n",
        "\n",
        "/*  display() is a function which takes a Matrix object and a std::string data type variables by l-value\n",
        "    reference and displays the resultant using cv::imshow */\n",
        "void Image::display(const cv::Mat &image, const std::string &windowName) const{\n",
        "    // cv::imshow(windowName, image);\n",
        "    std::string fileName = \"/content/Blur_Version_2_Parallelized/saved/\" + windowName + \".png\";\n",
        "    cv::imwrite(fileName, image);\n",
        "}\n",
        "\n",
        "/*  closeAllWindows() is a function which takes no arguments, and is for destroying the windows after\n",
        "    execution */\n",
        "void Image::closeAllWindows()\n",
        "{\n",
        "    cv::waitKey(0);\n",
        "    cv::destroyAllWindows();\n",
        "}\n"
      ],
      "metadata": {
        "colab": {
          "base_uri": "https://localhost:8080/"
        },
        "id": "jcAIxSSijJB_",
        "outputId": "197a5d26-39e4-44fd-8657-b2e023cdaa68"
      },
      "execution_count": 22,
      "outputs": [
        {
          "output_type": "stream",
          "name": "stdout",
          "text": [
            "Overwriting Image.cpp\n"
          ]
        }
      ]
    },
    {
      "cell_type": "code",
      "source": [
        "%%writefile Main.cpp\n",
        "#include \"Functionality.h\"\n",
        "#include \"Time.h\"\n",
        "#include <future>\n",
        "#include <vector>\n",
        "\n",
        "int main()\n",
        "{\n",
        "    try\n",
        "    {\n",
        "        // Get the Singleton instance\n",
        "        Image& img = Image::getInstance(\"/content/Blur_Version_2_Parallelized/lena.jpg\");\n",
        "\n",
        "        img.display(img.src_rgb(), \"Original Image\");\n",
        "\n",
        "        // Taking input of kernelSize\n",
        "        int kernelSize;\n",
        "        std::cout << \"Enter the kernel size (odd number):\";\n",
        "        std::cin >> kernelSize;\n",
        "\n",
        "        std::vector<std::future<void>> futures;\n",
        "        {\n",
        "            // timer object for checking the implementation time elapsed\n",
        "            Time timer;\n",
        "            try\n",
        "            {\n",
        "                futures.push_back(std::async(std::launch::async, applyFilter, std::ref(img), kernelSize, FilterType::Box));\n",
        "                futures.push_back(std::async(std::launch::async, applyFilter, std::ref(img), kernelSize, FilterType::Blur));\n",
        "                futures.push_back(std::async(std::launch::async, applyFilter, std::ref(img), kernelSize, FilterType::Gaussian));\n",
        "                futures.push_back(std::async(std::launch::async, applyFilter, std::ref(img), kernelSize, FilterType::Median));\n",
        "                futures.push_back(std::async(std::launch::async, applyFilter, std::ref(img), kernelSize, FilterType::Custom));\n",
        "\n",
        "                for (auto &f : futures)\n",
        "                {\n",
        "                    f.get(); // Wait for each async task to complete\n",
        "                }\n",
        "            }\n",
        "            catch (const InvalidKernelSizeError &e)\n",
        "            {\n",
        "                std::cerr << e.what() << '\\n';\n",
        "            }\n",
        "            catch (const EmptyWindowNameError &e)\n",
        "            {\n",
        "                std::cerr << e.what() << '\\n';\n",
        "            }\n",
        "        }\n",
        "        img.closeAllWindows();\n",
        "    }\n",
        "    catch (const EmptyImagePathError &e)\n",
        "    {\n",
        "        std::cerr << e.what() << '\\n';\n",
        "    }\n",
        "    catch (const EmptyImageError &e)\n",
        "    {\n",
        "        std::cerr << e.what() << '\\n';\n",
        "    }\n",
        "    return EXIT_SUCCESS;\n",
        "}"
      ],
      "metadata": {
        "colab": {
          "base_uri": "https://localhost:8080/"
        },
        "id": "nfwyeq9FjMwJ",
        "outputId": "6e8e7b47-6e3c-4308-c07b-84505fa05631"
      },
      "execution_count": 20,
      "outputs": [
        {
          "output_type": "stream",
          "name": "stdout",
          "text": [
            "Writing Main.cpp\n"
          ]
        }
      ]
    },
    {
      "cell_type": "code",
      "source": [
        "%%writefile Time.h\n",
        "#ifndef TIME_H\n",
        "#define TIME_H\n",
        "\n",
        "#include <iostream>\n",
        "#include <memory>\n",
        "\n",
        "#include <chrono>\n",
        "\n",
        "class Time{\n",
        "    private:\n",
        "        std::chrono::time_point<std::chrono::high_resolution_clock> m_StartTimePoint;\n",
        "\n",
        "        void Stop(){\n",
        "            auto endTimePoint = std::chrono::high_resolution_clock::now();\n",
        "\n",
        "            auto start = std::chrono::time_point_cast<std::chrono::microseconds>(m_StartTimePoint).time_since_epoch().count();\n",
        "            auto end = std::chrono::time_point_cast<std::chrono::microseconds>(endTimePoint).time_since_epoch().count();\n",
        "\n",
        "            auto duration = end - start;\n",
        "            double ms = duration * 0.001;\n",
        "\n",
        "            std::cout << \"Time Elapsed: \" << ms << \"ms\\n\";\n",
        "        }\n",
        "\n",
        "    public:\n",
        "    Time(){\n",
        "        m_StartTimePoint = std::chrono::high_resolution_clock::now();\n",
        "    }\n",
        "\n",
        "    ~Time(){\n",
        "        Stop();\n",
        "    }\n",
        "};\n",
        "\n",
        "#endif // TIME_H\n"
      ],
      "metadata": {
        "colab": {
          "base_uri": "https://localhost:8080/"
        },
        "id": "Htkr2lfajf9M",
        "outputId": "52edf54e-3b5b-473a-aa50-c7e0efab2502"
      },
      "execution_count": 27,
      "outputs": [
        {
          "output_type": "stream",
          "name": "stdout",
          "text": [
            "Writing Time.h\n"
          ]
        }
      ]
    },
    {
      "cell_type": "code",
      "source": [
        "!cmake -B build"
      ],
      "metadata": {
        "colab": {
          "base_uri": "https://localhost:8080/"
        },
        "id": "TvyU8aRRkWcv",
        "outputId": "11b9591d-46eb-4fa7-b2c6-7753d6f858ef"
      },
      "execution_count": 29,
      "outputs": [
        {
          "output_type": "stream",
          "name": "stdout",
          "text": [
            "-- The C compiler identification is GNU 11.4.0\n",
            "-- The CXX compiler identification is GNU 11.4.0\n",
            "-- Detecting C compiler ABI info\n",
            "-- Detecting C compiler ABI info - done\n",
            "-- Check for working C compiler: /usr/bin/cc - skipped\n",
            "-- Detecting C compile features\n",
            "-- Detecting C compile features - done\n",
            "-- Detecting CXX compiler ABI info\n",
            "-- Detecting CXX compiler ABI info - done\n",
            "-- Check for working CXX compiler: /usr/bin/c++ - skipped\n",
            "-- Detecting CXX compile features\n",
            "-- Detecting CXX compile features - done\n",
            "-- Found OpenCV: /usr (found version \"4.5.4\")\n",
            "-- Configuring done (0.4s)\n",
            "-- Generating done (0.0s)\n",
            "-- Build files have been written to: /content/Blur_Version_2_Parallelized/build\n"
          ]
        }
      ]
    },
    {
      "cell_type": "code",
      "source": [
        "%cd build"
      ],
      "metadata": {
        "colab": {
          "base_uri": "https://localhost:8080/"
        },
        "id": "2SNRxw94kHPV",
        "outputId": "956bc4ee-7395-4006-8bc2-0e3acddd6394"
      },
      "execution_count": 30,
      "outputs": [
        {
          "output_type": "stream",
          "name": "stdout",
          "text": [
            "/content/Blur_Version_2_Parallelized/build\n"
          ]
        }
      ]
    },
    {
      "cell_type": "code",
      "source": [
        "!make"
      ],
      "metadata": {
        "colab": {
          "base_uri": "https://localhost:8080/"
        },
        "id": "VexSs_64kjG2",
        "outputId": "29433954-5343-414f-ef8e-5dc7a428c554"
      },
      "execution_count": 31,
      "outputs": [
        {
          "output_type": "stream",
          "name": "stdout",
          "text": [
            "[ 25%] \u001b[32mBuilding CXX object CMakeFiles/blur_filters.dir/Main.cpp.o\u001b[0m\n",
            "[ 50%] \u001b[32mBuilding CXX object CMakeFiles/blur_filters.dir/Image.cpp.o\u001b[0m\n",
            "[ 75%] \u001b[32mBuilding CXX object CMakeFiles/blur_filters.dir/Functionality.cpp.o\u001b[0m\n",
            "[100%] \u001b[32m\u001b[1mLinking CXX executable blur_filters\u001b[0m\n",
            "[100%] Built target blur_filters\n"
          ]
        }
      ]
    },
    {
      "cell_type": "code",
      "source": [
        "!./blur_filters"
      ],
      "metadata": {
        "colab": {
          "base_uri": "https://localhost:8080/"
        },
        "id": "u1FUMJeRkj7k",
        "outputId": "7d3c4e66-5e8e-4c2c-ea53-5a3d01ffb7f7"
      },
      "execution_count": 34,
      "outputs": [
        {
          "output_type": "stream",
          "name": "stdout",
          "text": [
            "Enter the kernel size (odd number):5\n",
            "Time Elapsed: 81.268ms\n"
          ]
        }
      ]
    },
    {
      "cell_type": "code",
      "source": [],
      "metadata": {
        "id": "qHtLMaVWkp90"
      },
      "execution_count": null,
      "outputs": []
    }
  ]
}