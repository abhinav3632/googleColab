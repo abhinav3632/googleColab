{
  "nbformat": 4,
  "nbformat_minor": 0,
  "metadata": {
    "colab": {
      "provenance": [],
      "gpuType": "T4",
      "authorship_tag": "ABX9TyMuV4/AxzW4dKQ8YurjGDHq",
      "include_colab_link": true
    },
    "kernelspec": {
      "name": "python3",
      "display_name": "Python 3"
    },
    "language_info": {
      "name": "python"
    },
    "accelerator": "GPU"
  },
  "cells": [
    {
      "cell_type": "markdown",
      "metadata": {
        "id": "view-in-github",
        "colab_type": "text"
      },
      "source": [
        "<a href=\"https://colab.research.google.com/github/abhinav3632/googleColab/blob/main/Image_Processing.ipynb\" target=\"_parent\"><img src=\"https://colab.research.google.com/assets/colab-badge.svg\" alt=\"Open In Colab\"/></a>"
      ]
    },
    {
      "cell_type": "code",
      "execution_count": 26,
      "metadata": {
        "id": "ZBqtYxPmOqpo",
        "colab": {
          "base_uri": "https://localhost:8080/"
        },
        "outputId": "0b5d56a7-2092-4938-d150-bc1534cf1108"
      },
      "outputs": [
        {
          "output_type": "stream",
          "name": "stdout",
          "text": [
            "g++ (Ubuntu 11.4.0-1ubuntu1~22.04) 11.4.0\n",
            "Copyright (C) 2021 Free Software Foundation, Inc.\n",
            "This is free software; see the source for copying conditions.  There is NO\n",
            "warranty; not even for MERCHANTABILITY or FITNESS FOR A PARTICULAR PURPOSE.\n",
            "\n"
          ]
        }
      ],
      "source": [
        "!g++ --version"
      ]
    },
    {
      "cell_type": "code",
      "source": [
        "!apt install libopencv-dev\n",
        "!apt install -qq opencv-doc"
      ],
      "metadata": {
        "colab": {
          "base_uri": "https://localhost:8080/"
        },
        "id": "4k5vsnO1cKrs",
        "outputId": "74b0b306-2085-4b3c-c9f2-bddd5fa81550"
      },
      "execution_count": 27,
      "outputs": [
        {
          "output_type": "stream",
          "name": "stdout",
          "text": [
            "Reading package lists... Done\n",
            "Building dependency tree... Done\n",
            "Reading state information... Done\n",
            "libopencv-dev is already the newest version (4.5.4+dfsg-9ubuntu4+jammy0).\n",
            "0 upgraded, 0 newly installed, 0 to remove and 45 not upgraded.\n",
            "opencv-doc is already the newest version (4.5.4+dfsg-9ubuntu4+jammy0).\n",
            "0 upgraded, 0 newly installed, 0 to remove and 45 not upgraded.\n"
          ]
        }
      ]
    },
    {
      "cell_type": "code",
      "source": [
        "%%writefile test_opencv.cpp\n",
        "\n",
        "#include <opencv2/opencv.hpp>\n",
        "#include <iostream>\n",
        "\n",
        "int main() {\n",
        "    cv::Mat image = cv::Mat::zeros(100, 100, CV_8UC3); // Create a black image\n",
        "    cv::circle(image, cv::Point(50, 50), 40, cv::Scalar(0, 0, 255), -1); // Draw a red circle\n",
        "\n",
        "    cv::imwrite(\"output.png\", image); // Save the image\n",
        "    std::cout << \"Image created and saved as output.png\" << std::endl;\n",
        "\n",
        "    return 0;\n",
        "}"
      ],
      "metadata": {
        "colab": {
          "base_uri": "https://localhost:8080/"
        },
        "id": "Dh0A51MVTwop",
        "outputId": "0a057f3b-4d8b-48cc-c6cb-525abaf3fea0"
      },
      "execution_count": 28,
      "outputs": [
        {
          "output_type": "stream",
          "name": "stdout",
          "text": [
            "Writing test_opencv.cpp\n"
          ]
        }
      ]
    },
    {
      "cell_type": "code",
      "source": [
        "!g++ -o test_opencv test_opencv.cpp `pkg-config --cflags --libs opencv4`"
      ],
      "metadata": {
        "id": "Dz8b933GT_z8"
      },
      "execution_count": 29,
      "outputs": []
    },
    {
      "cell_type": "code",
      "source": [
        "!./test_opencv"
      ],
      "metadata": {
        "colab": {
          "base_uri": "https://localhost:8080/"
        },
        "id": "2tF6AhtjUGDY",
        "outputId": "2c38c8be-30f3-462f-f3e1-f5d650db183b"
      },
      "execution_count": 30,
      "outputs": [
        {
          "output_type": "stream",
          "name": "stdout",
          "text": [
            "Image created and saved as output.png\n"
          ]
        }
      ]
    },
    {
      "cell_type": "code",
      "source": [
        "%mkdir Blur_Version_1"
      ],
      "metadata": {
        "id": "sBNxlMldUiN1"
      },
      "execution_count": 31,
      "outputs": []
    },
    {
      "cell_type": "code",
      "source": [
        "%cd /content/Blur_Version_1\n"
      ],
      "metadata": {
        "colab": {
          "base_uri": "https://localhost:8080/"
        },
        "id": "BtsLhQCWUKpu",
        "outputId": "c941f8ff-d1bb-4da8-c476-0dbedb1edb77"
      },
      "execution_count": 32,
      "outputs": [
        {
          "output_type": "stream",
          "name": "stdout",
          "text": [
            "/content/Blur_Version_1\n"
          ]
        }
      ]
    },
    {
      "cell_type": "code",
      "source": [
        "%%writefile CMakeLists.txt\n",
        "cmake_minimum_required(VERSION 3.5)\n",
        "\n",
        "# Project Name\n",
        "project(BlurFilters VERSION 1.0)\n",
        "\n",
        "# C++ Standard\n",
        "set(CMAKE_CXX_STANDARD 17)\n",
        "set(CMAKE_CXX_STANDARD_REQUIRED True)\n",
        "\n",
        "# Find OpenCV Package\n",
        "find_package(OpenCV REQUIRED)\n",
        "include_directories(${OpenCV_INCLUDE_DIRS})\n",
        "\n",
        "# Add the Executable\n",
        "add_executable(blur_filters Main.cpp Image.cpp Functionality.cpp)\n",
        "\n",
        "# Link OpenCV libraries\n",
        "target_link_libraries(blur_filters ${OpenCV_LIBS})\n"
      ],
      "metadata": {
        "colab": {
          "base_uri": "https://localhost:8080/"
        },
        "id": "TXeaGzLEcYrR",
        "outputId": "f4274817-35a8-4ce4-f853-591771dd7c7f"
      },
      "execution_count": 33,
      "outputs": [
        {
          "output_type": "stream",
          "name": "stdout",
          "text": [
            "Overwriting CMakeLists.txt\n"
          ]
        }
      ]
    },
    {
      "cell_type": "code",
      "source": [
        "%%writefile Image.h\n",
        "#ifndef IMAGE_H\n",
        "#define IMAGE_H\n",
        "\n",
        "#include <iostream>\n",
        "#include <opencv2/opencv.hpp>\n",
        "#include \"EmptyImagePathError.h\"\n",
        "#include \"EmptyImageError.h\"\n",
        "\n",
        "class Image\n",
        "{\n",
        "private:\n",
        "    cv::Mat m_src_rgb; // Source image in rgb format\n",
        "\n",
        "public:\n",
        "    Image() = default; // Default constructor\n",
        "    Image(const Image&) = delete; // Deleted copy constructor\n",
        "    Image& operator=(const Image&) = delete; // Deleted copy assignment\n",
        "    Image(Image&&) = delete; // Deleted move constructor\n",
        "    Image& operator=(Image&&) = delete; // Deleted move assignment\n",
        "    ~Image() = default;\n",
        "\n",
        "    cv::Mat src_rgb() const { return m_src_rgb;}\n",
        "\n",
        "    Image(const std::string &imagePath); // Constructor to load image\n",
        "\n",
        "    void display(const cv::Mat &image, const std::string &windowName) const; // Display image\n",
        "\n",
        "    static void closeAllWindows(); // Close all openCv windows\n",
        "};\n",
        "\n",
        "#endif // IMAGE_H\n"
      ],
      "metadata": {
        "colab": {
          "base_uri": "https://localhost:8080/"
        },
        "id": "qe3P2Q6ZU1pe",
        "outputId": "caf53eca-0368-4676-ff2e-695ea1179ab3"
      },
      "execution_count": 34,
      "outputs": [
        {
          "output_type": "stream",
          "name": "stdout",
          "text": [
            "Overwriting Image.h\n"
          ]
        }
      ]
    },
    {
      "cell_type": "code",
      "source": [
        "%cd .."
      ],
      "metadata": {
        "colab": {
          "base_uri": "https://localhost:8080/"
        },
        "id": "JEHn4vtmWyUL",
        "outputId": "a8913de6-59e1-4ec5-8e93-4c9efebee7b2"
      },
      "execution_count": 87,
      "outputs": [
        {
          "output_type": "stream",
          "name": "stdout",
          "text": [
            "/content/Blur_Version_1\n"
          ]
        }
      ]
    },
    {
      "cell_type": "code",
      "source": [
        "%%writefile Image.cpp\n",
        "#include \"Image.h\"\n",
        "\n",
        "Image::Image(const std::string &imagePath)\n",
        "{\n",
        "    if(imagePath.size() == 0 || imagePath == \" \" || imagePath == \"\"){\n",
        "        throw EmptyImagePathError(\"Error: Invalid Image Path\");\n",
        "    }\n",
        "    m_src_rgb = cv::imread(imagePath, cv::IMREAD_COLOR);\n",
        "    if(m_src_rgb.empty()){\n",
        "        throw EmptyImageError(\"Error: Unable to load image from given path.\");\n",
        "        exit(1);\n",
        "    }\n",
        "}\n",
        "\n",
        "void Image::display(const cv::Mat &image, const std::string &windowName) const{\n",
        "    // cv::imshow(windowName, image);\n",
        "    std::string fileName = \"/content/Blur_Version_1/saved/\" + windowName + \".png\";\n",
        "    cv::imwrite(fileName, image);\n",
        "}\n",
        "\n",
        "void Image::closeAllWindows()\n",
        "{\n",
        "    cv::waitKey(0);\n",
        "    cv::destroyAllWindows();\n",
        "}\n"
      ],
      "metadata": {
        "colab": {
          "base_uri": "https://localhost:8080/"
        },
        "id": "oX6zo1eXW9ui",
        "outputId": "1fc6fbee-6b84-4b34-9685-38dcf506f2c7"
      },
      "execution_count": 97,
      "outputs": [
        {
          "output_type": "stream",
          "name": "stdout",
          "text": [
            "Overwriting Image.cpp\n"
          ]
        }
      ]
    },
    {
      "cell_type": "code",
      "source": [
        "%%writefile Functionality.h\n",
        "#ifndef FUNCTIONALITY_H\n",
        "#define FUNCTIONALITY_H\n",
        "\n",
        "#include \"Image.h\"\n",
        "#include \"InvalidKernelSizeError.h\"\n",
        "#include \"EmptyWindowNameError.h\"\n",
        "#include \"FilterType.h\"\n",
        "\n",
        "/*\n",
        "    A function to apply the boxfilter on the\n",
        "    given image\n",
        "    Input: given rgb image, kernel size\n",
        "    Output: blurred output image\n",
        "*/\n",
        "\n",
        "void applyFilter(const Image &img, int kernelSize, FilterType type);\n",
        "\n",
        "\n",
        "#endif // FUNCTIONALITY_H\n"
      ],
      "metadata": {
        "colab": {
          "base_uri": "https://localhost:8080/"
        },
        "id": "DILW_ZpYXCUB",
        "outputId": "5a8f5ffc-fe91-4a97-ca1e-603032f1de39"
      },
      "execution_count": 36,
      "outputs": [
        {
          "output_type": "stream",
          "name": "stdout",
          "text": [
            "Overwriting Functionality.h\n"
          ]
        }
      ]
    },
    {
      "cell_type": "code",
      "source": [
        "%%writefile Functionality.cpp\n",
        "#include \"Functionality.h\"\n",
        "\n",
        "void applyFilter(const Image &img, int kernelSize, FilterType type)\n",
        "{\n",
        "    if(kernelSize % 2 == 0 || kernelSize < 1){\n",
        "        throw InvalidKernelSizeError(\"Error: Kernel size must be a positive odd number.\");\n",
        "    }\n",
        "\n",
        "    cv::Mat result;\n",
        "    std::string windowName;\n",
        "\n",
        "    switch (type){\n",
        "        case FilterType::Box:\n",
        "            cv::boxFilter(img.src_rgb(), result, -1, cv::Size(kernelSize, kernelSize));\n",
        "            windowName = \"Box Filter\";\n",
        "            break;\n",
        "\n",
        "        case FilterType::Blur:\n",
        "            cv::blur(img.src_rgb(), result, cv::Size(kernelSize, kernelSize));\n",
        "            windowName = \"Blur Filter\";\n",
        "            break;\n",
        "\n",
        "        case FilterType::Gaussian:\n",
        "            cv::GaussianBlur(img.src_rgb(), result, cv::Size(kernelSize, kernelSize), 0);\n",
        "            windowName = \"Gaussian Filter\";\n",
        "            break;\n",
        "\n",
        "        case FilterType::Median:\n",
        "            cv::medianBlur(img.src_rgb(), result, kernelSize);\n",
        "            windowName = \"Median Filter\";\n",
        "            break;\n",
        "\n",
        "        default:\n",
        "            throw std::invalid_argument(\"Error: Invalid Filter Type.\");\n",
        "    }\n",
        "    if(windowName.size() == 0 || windowName == \" \" || windowName == \"\"){\n",
        "        throw EmptyWindowNameError(\"Error: Window Name cannot be empty\");\n",
        "    }\n",
        "    img.display(result, windowName);\n",
        "}\n"
      ],
      "metadata": {
        "colab": {
          "base_uri": "https://localhost:8080/"
        },
        "id": "s9RSgucKXI9D",
        "outputId": "fd9f2862-8860-406e-e3b7-3e221c6fa929"
      },
      "execution_count": 37,
      "outputs": [
        {
          "output_type": "stream",
          "name": "stdout",
          "text": [
            "Overwriting Functionality.cpp\n"
          ]
        }
      ]
    },
    {
      "cell_type": "code",
      "source": [
        "%%writefile FilterType.h\n",
        "#ifndef FILTERTYPE_H\n",
        "#define FILTERTYPE_H\n",
        "\n",
        "enum class FilterType{\n",
        "    Box,\n",
        "    Blur,\n",
        "    Gaussian,\n",
        "    Median\n",
        "};\n",
        "\n",
        "#endif // FILTERTYPE_H\n"
      ],
      "metadata": {
        "colab": {
          "base_uri": "https://localhost:8080/"
        },
        "id": "Iq3L0sKqXPpC",
        "outputId": "c1167f17-01bb-4c5f-80a6-1e6da53594ec"
      },
      "execution_count": 38,
      "outputs": [
        {
          "output_type": "stream",
          "name": "stdout",
          "text": [
            "Overwriting FilterType.h\n"
          ]
        }
      ]
    },
    {
      "cell_type": "code",
      "source": [
        "%%writefile EmptyImageError.h\n",
        "#ifndef EMPTYIMAGEERROR_H\n",
        "#define EMPTYIMAGEERROR_H\n",
        "\n",
        "#include <stdexcept>\n",
        "class EmptyImageError : public std::exception\n",
        "{\n",
        "private:\n",
        "    std::string m_msg;\n",
        "\n",
        "public:\n",
        "    EmptyImageError(const std::string &msg) : m_msg{msg} {}\n",
        "    EmptyImageError() = delete;\n",
        "    EmptyImageError(const EmptyImageError &) = delete;\n",
        "    EmptyImageError &operator=(const EmptyImageError &) = delete;\n",
        "    EmptyImageError(EmptyImageError &&) = default;\n",
        "    EmptyImageError &operator=(EmptyImageError &&) = delete;\n",
        "    ~EmptyImageError() = default;\n",
        "    const char *what() const _GLIBCXX_TXN_SAFE_DYN _GLIBCXX_NOTHROW\n",
        "    {\n",
        "        return m_msg.c_str();\n",
        "    }\n",
        "};\n",
        "\n",
        "#endif // EMPTYIMAGEERROR_H\n"
      ],
      "metadata": {
        "colab": {
          "base_uri": "https://localhost:8080/"
        },
        "id": "oSe7udusXWKD",
        "outputId": "ee1083c7-40fb-4caf-f75e-1070abc47e0f"
      },
      "execution_count": 39,
      "outputs": [
        {
          "output_type": "stream",
          "name": "stdout",
          "text": [
            "Overwriting EmptyImageError.h\n"
          ]
        }
      ]
    },
    {
      "cell_type": "code",
      "source": [
        "%%writefile EmptyImagePathError.h\n",
        "#ifndef EMPTYIMAGEPATHERROR_H\n",
        "#define EMPTYIMAGEPATHERROR_H\n",
        "\n",
        "#include <stdexcept>\n",
        "class EmptyImagePathError : public std::exception\n",
        "{\n",
        "private:\n",
        "    std::string m_msg;\n",
        "\n",
        "public:\n",
        "    EmptyImagePathError(const std::string &msg) : m_msg{msg} {}\n",
        "    EmptyImagePathError() = delete;\n",
        "    EmptyImagePathError(const EmptyImagePathError &) = default;\n",
        "    EmptyImagePathError &operator=(const EmptyImagePathError &) = delete;\n",
        "    EmptyImagePathError(EmptyImagePathError &&) = default;\n",
        "    EmptyImagePathError &operator=(EmptyImagePathError &&) = delete;\n",
        "    ~EmptyImagePathError() = default;\n",
        "    const char *what() const _GLIBCXX_TXN_SAFE_DYN _GLIBCXX_NOTHROW\n",
        "    {\n",
        "        return m_msg.c_str();\n",
        "    }\n",
        "};\n",
        "\n",
        "#endif // EMPTYIMAGEPATHERROR_H\n"
      ],
      "metadata": {
        "colab": {
          "base_uri": "https://localhost:8080/"
        },
        "id": "H3_Xj232XeU-",
        "outputId": "4eb1c86a-e75b-46e1-c4bf-ea4ba057813d"
      },
      "execution_count": 40,
      "outputs": [
        {
          "output_type": "stream",
          "name": "stdout",
          "text": [
            "Overwriting EmptyImagePathError.h\n"
          ]
        }
      ]
    },
    {
      "cell_type": "code",
      "source": [
        "%%writefile EmptyWindowNameError.h\n",
        "#ifndef EMPTYWINDOWNAMEERROR_H\n",
        "#define EMPTYWINDOWNAMEERROR_H\n",
        "\n",
        "#include <stdexcept>\n",
        "class EmptyWindowNameError : public std::exception\n",
        "{\n",
        "private:\n",
        "    std::string m_msg;\n",
        "\n",
        "public:\n",
        "    EmptyWindowNameError(const std::string &msg) : m_msg{msg} {}\n",
        "    EmptyWindowNameError() = delete;\n",
        "    EmptyWindowNameError(const EmptyWindowNameError &) = delete;\n",
        "    EmptyWindowNameError &operator=(const EmptyWindowNameError &) = delete;\n",
        "    EmptyWindowNameError(EmptyWindowNameError &&) = default;\n",
        "    EmptyWindowNameError &operator=(EmptyWindowNameError &&) = delete;\n",
        "    ~EmptyWindowNameError() = default;\n",
        "    const char *what() const _GLIBCXX_TXN_SAFE_DYN _GLIBCXX_NOTHROW\n",
        "    {\n",
        "        return m_msg.c_str();\n",
        "    }\n",
        "};\n",
        "\n",
        "#endif // EMPTYWINDOWNAMEERROR_H\n"
      ],
      "metadata": {
        "colab": {
          "base_uri": "https://localhost:8080/"
        },
        "id": "4tHxv-hdXkDq",
        "outputId": "05de2b6d-cd00-4df0-95be-78b7dcc7e55f"
      },
      "execution_count": 41,
      "outputs": [
        {
          "output_type": "stream",
          "name": "stdout",
          "text": [
            "Overwriting EmptyWindowNameError.h\n"
          ]
        }
      ]
    },
    {
      "cell_type": "code",
      "source": [
        "%%writefile InvalidKernelSizeError.h\n",
        "#ifndef INVALIDKERNELSIZEERROR_H\n",
        "#define INVALIDKERNELSIZEERROR_H\n",
        "\n",
        "#include <stdexcept>\n",
        "class InvalidKernelSizeError : public std::exception\n",
        "{\n",
        "private:\n",
        "    std::string m_msg;\n",
        "\n",
        "public:\n",
        "    InvalidKernelSizeError(const std::string &msg) : m_msg{msg} {}\n",
        "    InvalidKernelSizeError() = delete;\n",
        "    InvalidKernelSizeError(const InvalidKernelSizeError &) = delete;\n",
        "    InvalidKernelSizeError &operator=(const InvalidKernelSizeError &) = delete;\n",
        "    InvalidKernelSizeError(InvalidKernelSizeError &&) = default;\n",
        "    InvalidKernelSizeError &operator=(InvalidKernelSizeError &&) = delete;\n",
        "    ~InvalidKernelSizeError() = default;\n",
        "    const char *what() const _GLIBCXX_TXN_SAFE_DYN _GLIBCXX_NOTHROW\n",
        "    {\n",
        "        return m_msg.c_str();\n",
        "    }\n",
        "};\n",
        "\n",
        "#endif // INVALIDKERNELSIZEERROR_H\n"
      ],
      "metadata": {
        "colab": {
          "base_uri": "https://localhost:8080/"
        },
        "id": "LKR_m43SXpsD",
        "outputId": "e6c6385e-7f7d-47ee-db39-d7ced4c3d000"
      },
      "execution_count": 42,
      "outputs": [
        {
          "output_type": "stream",
          "name": "stdout",
          "text": [
            "Overwriting InvalidKernelSizeError.h\n"
          ]
        }
      ]
    },
    {
      "cell_type": "code",
      "source": [
        "%%writefile Main.cpp\n",
        "#include \"Functionality.h\"\n",
        "#include \"Time.h\"\n",
        "\n",
        "int main()\n",
        "{\n",
        "    std::string imagePath = \"/content/Blur_Version_1/lena.png\";\n",
        "    try\n",
        "    {\n",
        "        Image img(imagePath);\n",
        "\n",
        "        img.display(img.src_rgb(), \"Original Image\");\n",
        "\n",
        "        int kernelSize;\n",
        "        std::cout << \"Enter the kernel size (odd number):\";\n",
        "        std::cin >> kernelSize;\n",
        "\n",
        "        {\n",
        "            Time timer;\n",
        "            try\n",
        "            {\n",
        "                applyFilter(img, kernelSize, FilterType::Box);\n",
        "                applyFilter(img, kernelSize, FilterType::Blur);\n",
        "                applyFilter(img, kernelSize, FilterType::Gaussian);\n",
        "                applyFilter(img, kernelSize, FilterType::Median);\n",
        "            }\n",
        "            catch(const InvalidKernelSizeError& e)\n",
        "            {\n",
        "                std::cerr << e.what() << '\\n';\n",
        "            }\n",
        "            catch(const EmptyWindowNameError& e)\n",
        "            {\n",
        "                std::cerr << e.what() << '\\n';\n",
        "            }\n",
        "\n",
        "        }\n",
        "        img.closeAllWindows();\n",
        "    }\n",
        "    catch (const EmptyImagePathError &e)\n",
        "    {\n",
        "        std::cerr << e.what() << '\\n';\n",
        "    }\n",
        "    catch (const EmptyImageError &e)\n",
        "    {\n",
        "        std::cerr << e.what() << '\\n';\n",
        "    }\n",
        "    return EXIT_SUCCESS;\n",
        "}"
      ],
      "metadata": {
        "colab": {
          "base_uri": "https://localhost:8080/"
        },
        "id": "Q3AoeGZjXwoS",
        "outputId": "96b2873b-20f6-4960-9bfc-086f512e705f"
      },
      "execution_count": 43,
      "outputs": [
        {
          "output_type": "stream",
          "name": "stdout",
          "text": [
            "Overwriting Main.cpp\n"
          ]
        }
      ]
    },
    {
      "cell_type": "code",
      "source": [
        "%%writefile Time.h\n",
        "#ifndef TIME_H\n",
        "#define TIME_H\n",
        "\n",
        "#include <iostream>\n",
        "#include <memory>\n",
        "\n",
        "#include <chrono>\n",
        "\n",
        "class Time{\n",
        "    private:\n",
        "        std::chrono::time_point<std::chrono::high_resolution_clock> m_StartTimePoint;\n",
        "\n",
        "        void Stop(){\n",
        "            auto endTimePoint = std::chrono::high_resolution_clock::now();\n",
        "\n",
        "            auto start = std::chrono::time_point_cast<std::chrono::microseconds>(m_StartTimePoint).time_since_epoch().count();\n",
        "            auto end = std::chrono::time_point_cast<std::chrono::microseconds>(endTimePoint).time_since_epoch().count();\n",
        "\n",
        "            auto duration = end - start;\n",
        "            double ms = duration * 0.001;\n",
        "\n",
        "            std::cout << \"Time Elapsed: \" << ms << \"ms\\n\";\n",
        "        }\n",
        "\n",
        "    public:\n",
        "    Time(){\n",
        "        m_StartTimePoint = std::chrono::high_resolution_clock::now();\n",
        "    }\n",
        "\n",
        "    ~Time(){\n",
        "        Stop();\n",
        "    }\n",
        "};\n",
        "\n",
        "#endif // TIME_H\n"
      ],
      "metadata": {
        "colab": {
          "base_uri": "https://localhost:8080/"
        },
        "id": "aP0dHHstX0yo",
        "outputId": "9818d461-2552-4e34-db0e-ec55a8e482ec"
      },
      "execution_count": 44,
      "outputs": [
        {
          "output_type": "stream",
          "name": "stdout",
          "text": [
            "Overwriting Time.h\n"
          ]
        }
      ]
    },
    {
      "cell_type": "code",
      "source": [
        "!cmake -B build"
      ],
      "metadata": {
        "colab": {
          "base_uri": "https://localhost:8080/"
        },
        "id": "f9FrHOIpX_v_",
        "outputId": "d6ac3c9a-1d4c-4668-8591-531f30334f21"
      },
      "execution_count": 89,
      "outputs": [
        {
          "output_type": "stream",
          "name": "stdout",
          "text": [
            "-- Configuring done (0.0s)\n",
            "-- Generating done (0.0s)\n",
            "-- Build files have been written to: /content/Blur_Version_1/build\n"
          ]
        }
      ]
    },
    {
      "cell_type": "code",
      "source": [
        "%cd /content/Blur_Version_1/build"
      ],
      "metadata": {
        "colab": {
          "base_uri": "https://localhost:8080/"
        },
        "id": "mOqoUMIJbQhy",
        "outputId": "3fb84043-f3cc-4176-8fbd-fe51efea3464"
      },
      "execution_count": 90,
      "outputs": [
        {
          "output_type": "stream",
          "name": "stdout",
          "text": [
            "/content/Blur_Version_1/build\n"
          ]
        }
      ]
    },
    {
      "cell_type": "code",
      "source": [
        "!make"
      ],
      "metadata": {
        "colab": {
          "base_uri": "https://localhost:8080/"
        },
        "id": "CNW2UKdecy1s",
        "outputId": "927fdf37-b8b0-4e3b-c1d9-d5d70441b243"
      },
      "execution_count": 91,
      "outputs": [
        {
          "output_type": "stream",
          "name": "stdout",
          "text": [
            "[ 25%] \u001b[32mBuilding CXX object CMakeFiles/blur_filters.dir/Image.cpp.o\u001b[0m\n",
            "[ 50%] \u001b[32m\u001b[1mLinking CXX executable blur_filters\u001b[0m\n",
            "[100%] Built target blur_filters\n"
          ]
        }
      ]
    },
    {
      "cell_type": "code",
      "source": [
        "!./blur_filters\n"
      ],
      "metadata": {
        "id": "VCJaRyENc6BE",
        "outputId": "5c18fe81-1930-4c41-aa05-eaef34cf810e",
        "colab": {
          "base_uri": "https://localhost:8080/"
        }
      },
      "execution_count": 92,
      "outputs": [
        {
          "output_type": "stream",
          "name": "stdout",
          "text": [
            "Enter the kernel size (odd number):7\n",
            "Time Elapsed: 118.843ms\n"
          ]
        }
      ]
    },
    {
      "cell_type": "code",
      "source": [
        "%cd /content/Blur_Version_2/"
      ],
      "metadata": {
        "id": "62iW7cy7OmZz",
        "colab": {
          "base_uri": "https://localhost:8080/"
        },
        "outputId": "7e41fbef-aeff-4af9-a7a4-982576d2dfd2"
      },
      "execution_count": 96,
      "outputs": [
        {
          "output_type": "stream",
          "name": "stdout",
          "text": [
            "/content/Blur_Version_2\n"
          ]
        }
      ]
    },
    {
      "cell_type": "code",
      "source": [
        "!cmake -B build"
      ],
      "metadata": {
        "colab": {
          "base_uri": "https://localhost:8080/"
        },
        "id": "DBOgiQP5ZxXa",
        "outputId": "90821e5b-dd98-4baf-ad52-31aac1fdd127"
      },
      "execution_count": 99,
      "outputs": [
        {
          "output_type": "stream",
          "name": "stdout",
          "text": [
            "-- The C compiler identification is GNU 11.4.0\n",
            "-- The CXX compiler identification is GNU 11.4.0\n",
            "-- Detecting C compiler ABI info\n",
            "-- Detecting C compiler ABI info - done\n",
            "-- Check for working C compiler: /usr/bin/cc - skipped\n",
            "-- Detecting C compile features\n",
            "-- Detecting C compile features - done\n",
            "-- Detecting CXX compiler ABI info\n",
            "-- Detecting CXX compiler ABI info - done\n",
            "-- Check for working CXX compiler: /usr/bin/c++ - skipped\n",
            "-- Detecting CXX compile features\n",
            "-- Detecting CXX compile features - done\n",
            "-- Found OpenCV: /usr (found version \"4.5.4\")\n",
            "-- Configuring done (0.5s)\n",
            "-- Generating done (0.0s)\n",
            "-- Build files have been written to: /content/Blur_Version_2/build\n"
          ]
        }
      ]
    },
    {
      "cell_type": "code",
      "source": [
        "%cd /content/Blur_Version_2/build"
      ],
      "metadata": {
        "colab": {
          "base_uri": "https://localhost:8080/"
        },
        "id": "XcHcsqyFaz7W",
        "outputId": "0857586b-1e13-407e-b823-ea26b8b433aa"
      },
      "execution_count": 100,
      "outputs": [
        {
          "output_type": "stream",
          "name": "stdout",
          "text": [
            "/content/Blur_Version_2/build\n"
          ]
        }
      ]
    },
    {
      "cell_type": "code",
      "source": [
        "!make"
      ],
      "metadata": {
        "colab": {
          "base_uri": "https://localhost:8080/"
        },
        "id": "2fEKjBaaa7NS",
        "outputId": "a454b63d-e7df-4d04-d861-72c63f61c6e3"
      },
      "execution_count": 104,
      "outputs": [
        {
          "output_type": "stream",
          "name": "stdout",
          "text": [
            "[ 25%] \u001b[32mBuilding CXX object CMakeFiles/blur_filters.dir/Image.cpp.o\u001b[0m\n",
            "[ 50%] \u001b[32m\u001b[1mLinking CXX executable blur_filters\u001b[0m\n",
            "[100%] Built target blur_filters\n"
          ]
        }
      ]
    },
    {
      "cell_type": "code",
      "source": [
        "!./blur_filters"
      ],
      "metadata": {
        "colab": {
          "base_uri": "https://localhost:8080/"
        },
        "id": "_N6_5ZY2a8tu",
        "outputId": "5aaf54b8-f6d8-4af0-e024-27a489b26b6d"
      },
      "execution_count": 105,
      "outputs": [
        {
          "output_type": "stream",
          "name": "stdout",
          "text": [
            "Enter the kernel size (odd number):5\n",
            "Time Elapsed: 64.357ms\n"
          ]
        }
      ]
    },
    {
      "cell_type": "code",
      "source": [],
      "metadata": {
        "id": "0xAd6rxvbBiX"
      },
      "execution_count": null,
      "outputs": []
    }
  ]
}