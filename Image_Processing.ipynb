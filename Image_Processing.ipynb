{
  "nbformat": 4,
  "nbformat_minor": 0,
  "metadata": {
    "colab": {
      "provenance": [],
      "gpuType": "V28",
      "authorship_tag": "ABX9TyNuKyshKHB4eveE4dSmeS1i",
      "include_colab_link": true
    },
    "kernelspec": {
      "name": "python3",
      "display_name": "Python 3"
    },
    "language_info": {
      "name": "python"
    },
    "accelerator": "TPU"
  },
  "cells": [
    {
      "cell_type": "markdown",
      "metadata": {
        "id": "view-in-github",
        "colab_type": "text"
      },
      "source": [
        "<a href=\"https://colab.research.google.com/github/abhinav3632/googleColab/blob/main/Image_Processing.ipynb\" target=\"_parent\"><img src=\"https://colab.research.google.com/assets/colab-badge.svg\" alt=\"Open In Colab\"/></a>"
      ]
    },
    {
      "cell_type": "code",
      "execution_count": 5,
      "metadata": {
        "id": "ZBqtYxPmOqpo",
        "colab": {
          "base_uri": "https://localhost:8080/"
        },
        "outputId": "453d97be-f180-46fa-8a32-d7f97e802a39"
      },
      "outputs": [
        {
          "output_type": "stream",
          "name": "stdout",
          "text": [
            "g++ (Ubuntu 11.4.0-1ubuntu1~22.04) 11.4.0\n",
            "Copyright (C) 2021 Free Software Foundation, Inc.\n",
            "This is free software; see the source for copying conditions.  There is NO\n",
            "warranty; not even for MERCHANTABILITY or FITNESS FOR A PARTICULAR PURPOSE.\n",
            "\n"
          ]
        }
      ],
      "source": [
        "!g++ --version"
      ]
    },
    {
      "cell_type": "code",
      "source": [
        "!apt install libopencv-dev\n",
        "!apt install -qq opencv-doc"
      ],
      "metadata": {
        "colab": {
          "base_uri": "https://localhost:8080/"
        },
        "id": "4k5vsnO1cKrs",
        "outputId": "3332c109-0a67-45b8-802f-2e0865fffb30"
      },
      "execution_count": 30,
      "outputs": [
        {
          "output_type": "stream",
          "name": "stdout",
          "text": [
            "Reading package lists... Done\n",
            "Building dependency tree... Done\n",
            "Reading state information... Done\n",
            "libopencv-dev is already the newest version (4.5.4+dfsg-9ubuntu4+jammy0).\n",
            "0 upgraded, 0 newly installed, 0 to remove and 45 not upgraded.\n",
            "The following additional packages will be installed:\n",
            "  fonts-mathjax libjs-mathjax\n",
            "Suggested packages:\n",
            "  fonts-mathjax-extras fonts-stix libjs-mathjax-doc\n",
            "The following NEW packages will be installed:\n",
            "  fonts-mathjax libjs-mathjax opencv-doc\n",
            "0 upgraded, 3 newly installed, 0 to remove and 45 not upgraded.\n",
            "Need to get 106 MB of archives.\n",
            "After this operation, 321 MB of additional disk space will be used.\n",
            "Selecting previously unselected package fonts-mathjax.\n",
            "(Reading database ... 123598 files and directories currently installed.)\n",
            "Preparing to unpack .../fonts-mathjax_2.7.9+dfsg-1_all.deb ...\n",
            "Unpacking fonts-mathjax (2.7.9+dfsg-1) ...\n",
            "Selecting previously unselected package libjs-mathjax.\n",
            "Preparing to unpack .../libjs-mathjax_2.7.9+dfsg-1_all.deb ...\n",
            "Unpacking libjs-mathjax (2.7.9+dfsg-1) ...\n",
            "Selecting previously unselected package opencv-doc.\n",
            "Preparing to unpack .../opencv-doc_4.5.4+dfsg-9ubuntu4+jammy0_all.deb ...\n",
            "Unpacking opencv-doc (4.5.4+dfsg-9ubuntu4+jammy0) ...\n",
            "Setting up fonts-mathjax (2.7.9+dfsg-1) ...\n",
            "Setting up libjs-mathjax (2.7.9+dfsg-1) ...\n",
            "Setting up opencv-doc (4.5.4+dfsg-9ubuntu4+jammy0) ...\n",
            "Processing triggers for fontconfig (2.13.1-4.2ubuntu5) ...\n"
          ]
        }
      ]
    },
    {
      "cell_type": "code",
      "source": [
        "%%writefile test_opencv.cpp\n",
        "\n",
        "#include <opencv2/opencv.hpp>\n",
        "#include <iostream>\n",
        "\n",
        "int main() {\n",
        "    cv::Mat image = cv::Mat::zeros(100, 100, CV_8UC3); // Create a black image\n",
        "    cv::circle(image, cv::Point(50, 50), 40, cv::Scalar(0, 0, 255), -1); // Draw a red circle\n",
        "\n",
        "    cv::imwrite(\"output.png\", image); // Save the image\n",
        "    std::cout << \"Image created and saved as output.png\" << std::endl;\n",
        "\n",
        "    return 0;\n",
        "}"
      ],
      "metadata": {
        "colab": {
          "base_uri": "https://localhost:8080/"
        },
        "id": "Dh0A51MVTwop",
        "outputId": "3eff30d2-c948-4f52-ebc5-28c949e9299a"
      },
      "execution_count": 6,
      "outputs": [
        {
          "output_type": "stream",
          "name": "stdout",
          "text": [
            "Writing test_opencv.cpp\n"
          ]
        }
      ]
    },
    {
      "cell_type": "code",
      "source": [
        "!g++ -o test_opencv test_opencv.cpp `pkg-config --cflags --libs opencv4`"
      ],
      "metadata": {
        "id": "Dz8b933GT_z8"
      },
      "execution_count": 7,
      "outputs": []
    },
    {
      "cell_type": "code",
      "source": [
        "!./test_opencv"
      ],
      "metadata": {
        "colab": {
          "base_uri": "https://localhost:8080/"
        },
        "id": "2tF6AhtjUGDY",
        "outputId": "be80ab58-8e20-4ef3-fb3e-56286df24a05"
      },
      "execution_count": 8,
      "outputs": [
        {
          "output_type": "stream",
          "name": "stdout",
          "text": [
            "Image created and saved as output.png\n"
          ]
        }
      ]
    },
    {
      "cell_type": "code",
      "source": [
        "%cd /content/Blur_Version_1\n",
        ""
      ],
      "metadata": {
        "colab": {
          "base_uri": "https://localhost:8080/"
        },
        "id": "BtsLhQCWUKpu",
        "outputId": "04a0dee9-dc92-4a86-f88d-7737566dbdb3"
      },
      "execution_count": 9,
      "outputs": [
        {
          "output_type": "stream",
          "name": "stdout",
          "text": [
            "/content/Blur_Version_1\n"
          ]
        }
      ]
    },
    {
      "cell_type": "code",
      "source": [
        "%%writefile CMakeLists.txt\n",
        "cmake_minimum_required(VERSION 3.5)\n",
        "\n",
        "# Project Name\n",
        "project(BlurFilters VERSION 1.0)\n",
        "\n",
        "# C++ Standard\n",
        "set(CMAKE_CXX_STANDARD 17)\n",
        "set(CMAKE_CXX_STANDARD_REQUIRED True)\n",
        "\n",
        "# Find OpenCV Package\n",
        "find_package(OpenCV REQUIRED)\n",
        "include_directories(${OpenCV_INCLUDE_DIRS})\n",
        "\n",
        "# Add the Executable\n",
        "add_executable(blur_filters Main.cpp Image.cpp Functionality.cpp)\n",
        "\n",
        "# Link OpenCV libraries\n",
        "target_link_libraries(blur_filters ${OpenCV_LIBS})\n"
      ],
      "metadata": {
        "colab": {
          "base_uri": "https://localhost:8080/"
        },
        "id": "TXeaGzLEcYrR",
        "outputId": "8fcc6804-b877-4bbf-f0a9-135cd6672c22"
      },
      "execution_count": 32,
      "outputs": [
        {
          "output_type": "stream",
          "name": "stdout",
          "text": [
            "Writing CMakeLists.txt\n"
          ]
        }
      ]
    },
    {
      "cell_type": "code",
      "source": [
        "%%writefile Image.h\n",
        "#ifndef IMAGE_H\n",
        "#define IMAGE_H\n",
        "\n",
        "#include <iostream>\n",
        "#include <opencv2/opencv.hpp>\n",
        "#include \"EmptyImagePathError.h\"\n",
        "#include \"EmptyImageError.h\"\n",
        "\n",
        "class Image\n",
        "{\n",
        "private:\n",
        "    cv::Mat m_src_rgb; // Source image in rgb format\n",
        "\n",
        "public:\n",
        "    Image() = default; // Default constructor\n",
        "    Image(const Image&) = delete; // Deleted copy constructor\n",
        "    Image& operator=(const Image&) = delete; // Deleted copy assignment\n",
        "    Image(Image&&) = delete; // Deleted move constructor\n",
        "    Image& operator=(Image&&) = delete; // Deleted move assignment\n",
        "    ~Image() = default;\n",
        "\n",
        "    cv::Mat src_rgb() const { return m_src_rgb;}\n",
        "\n",
        "    Image(const std::string &imagePath); // Constructor to load image\n",
        "\n",
        "    void display(const cv::Mat &image, const std::string &windowName) const; // Display image\n",
        "\n",
        "    static void closeAllWindows(); // Close all openCv windows\n",
        "};\n",
        "\n",
        "#endif // IMAGE_H\n"
      ],
      "metadata": {
        "colab": {
          "base_uri": "https://localhost:8080/"
        },
        "id": "qe3P2Q6ZU1pe",
        "outputId": "eeec71ab-8829-4463-f2e4-247cd6ca6ec5"
      },
      "execution_count": 10,
      "outputs": [
        {
          "output_type": "stream",
          "name": "stdout",
          "text": [
            "Writing Image.h\n"
          ]
        }
      ]
    },
    {
      "cell_type": "code",
      "source": [
        "%%writefile Image.cpp\n",
        "#include \"Image.h\"\n",
        "\n",
        "Image::Image(const std::string &imagePath)\n",
        "{\n",
        "    if(imagePath.size() == 0 || imagePath == \" \" || imagePath == \"\"){\n",
        "        throw EmptyImagePathError(\"Error: Invalid Image Path\");\n",
        "    }\n",
        "    m_src_rgb = cv::imread(imagePath, cv::IMREAD_COLOR);\n",
        "    if(m_src_rgb.empty()){\n",
        "        throw EmptyImageError(\"Error: Unable to load image from given path.\");\n",
        "        exit(1);\n",
        "    }\n",
        "}\n",
        "\n",
        "void Image::display(const cv::Mat &image, const std::string &windowName) const{\n",
        "    cv::imshow(windowName, image);\n",
        "}\n",
        "\n",
        "void Image::closeAllWindows()\n",
        "{\n",
        "    cv::waitKey(0);\n",
        "    cv::destroyAllWindows();\n",
        "}\n"
      ],
      "metadata": {
        "colab": {
          "base_uri": "https://localhost:8080/"
        },
        "id": "oX6zo1eXW9ui",
        "outputId": "ee104572-b7e7-44f6-b0af-b61fc78b036d"
      },
      "execution_count": 11,
      "outputs": [
        {
          "output_type": "stream",
          "name": "stdout",
          "text": [
            "Writing Image.cpp\n"
          ]
        }
      ]
    },
    {
      "cell_type": "code",
      "source": [
        "%%writefile Functionality.h\n",
        "#ifndef FUNCTIONALITY_H\n",
        "#define FUNCTIONALITY_H\n",
        "\n",
        "#include \"Image.h\"\n",
        "#include \"InvalidKernelSizeError.h\"\n",
        "#include \"EmptyWindowNameError.h\"\n",
        "#include \"FilterType.h\"\n",
        "\n",
        "/*\n",
        "    A function to apply the boxfilter on the\n",
        "    given image\n",
        "    Input: given rgb image, kernel size\n",
        "    Output: blurred output image\n",
        "*/\n",
        "\n",
        "void applyFilter(const Image &img, int kernelSize, FilterType type);\n",
        "\n",
        "\n",
        "#endif // FUNCTIONALITY_H\n"
      ],
      "metadata": {
        "colab": {
          "base_uri": "https://localhost:8080/"
        },
        "id": "DILW_ZpYXCUB",
        "outputId": "260051a0-9865-492f-c528-28693e17fe68"
      },
      "execution_count": 12,
      "outputs": [
        {
          "output_type": "stream",
          "name": "stdout",
          "text": [
            "Writing Functionality.h\n"
          ]
        }
      ]
    },
    {
      "cell_type": "code",
      "source": [
        "%%writefile Functionality.cpp\n",
        "#include \"Functionality.h\"\n",
        "\n",
        "void applyFilter(const Image &img, int kernelSize, FilterType type)\n",
        "{\n",
        "    if(kernelSize % 2 == 0 || kernelSize < 1){\n",
        "        throw InvalidKernelSizeError(\"Error: Kernel size must be a positive odd number.\");\n",
        "    }\n",
        "\n",
        "    cv::Mat result;\n",
        "    std::string windowName;\n",
        "\n",
        "    switch (type){\n",
        "        case FilterType::Box:\n",
        "            cv::boxFilter(img.src_rgb(), result, -1, cv::Size(kernelSize, kernelSize));\n",
        "            windowName = \"Box Filter\";\n",
        "            break;\n",
        "\n",
        "        case FilterType::Blur:\n",
        "            cv::blur(img.src_rgb(), result, cv::Size(kernelSize, kernelSize));\n",
        "            windowName = \"Blur Filter\";\n",
        "            break;\n",
        "\n",
        "        case FilterType::Gaussian:\n",
        "            cv::GaussianBlur(img.src_rgb(), result, cv::Size(kernelSize, kernelSize), 0);\n",
        "            windowName = \"Gaussian Filter\";\n",
        "            break;\n",
        "\n",
        "        case FilterType::Median:\n",
        "            cv::medianBlur(img.src_rgb(), result, kernelSize);\n",
        "            windowName = \"Median Filter\";\n",
        "            break;\n",
        "\n",
        "        default:\n",
        "            throw std::invalid_argument(\"Error: Invalid Filter Type.\");\n",
        "    }\n",
        "    if(windowName.size() == 0 || windowName == \" \" || windowName == \"\"){\n",
        "        throw EmptyWindowNameError(\"Error: Window Name cannot be empty\");\n",
        "    }\n",
        "    img.display(result, windowName);\n",
        "}\n"
      ],
      "metadata": {
        "colab": {
          "base_uri": "https://localhost:8080/"
        },
        "id": "s9RSgucKXI9D",
        "outputId": "b9621447-2be5-481a-b475-a77d52f496f9"
      },
      "execution_count": 13,
      "outputs": [
        {
          "output_type": "stream",
          "name": "stdout",
          "text": [
            "Writing Functionality.cpp\n"
          ]
        }
      ]
    },
    {
      "cell_type": "code",
      "source": [
        "%%writefile FilterType.h\n",
        "#ifndef FILTERTYPE_H\n",
        "#define FILTERTYPE_H\n",
        "\n",
        "enum class FilterType{\n",
        "    Box,\n",
        "    Blur,\n",
        "    Gaussian,\n",
        "    Median\n",
        "};\n",
        "\n",
        "#endif // FILTERTYPE_H\n"
      ],
      "metadata": {
        "colab": {
          "base_uri": "https://localhost:8080/"
        },
        "id": "Iq3L0sKqXPpC",
        "outputId": "0019658f-3d4b-4324-bf97-aa0b13c255ea"
      },
      "execution_count": 23,
      "outputs": [
        {
          "output_type": "stream",
          "name": "stdout",
          "text": [
            "Writing FilterType.h\n"
          ]
        }
      ]
    },
    {
      "cell_type": "code",
      "source": [
        "%%writefile EmptyImageError.h\n",
        "#ifndef EMPTYIMAGEERROR_H\n",
        "#define EMPTYIMAGEERROR_H\n",
        "\n",
        "#include <stdexcept>\n",
        "class EmptyImageError : public std::exception\n",
        "{\n",
        "private:\n",
        "    std::string m_msg;\n",
        "\n",
        "public:\n",
        "    EmptyImageError(const std::string &msg) : m_msg{msg} {}\n",
        "    EmptyImageError() = delete;\n",
        "    EmptyImageError(const EmptyImageError &) = delete;\n",
        "    EmptyImageError &operator=(const EmptyImageError &) = delete;\n",
        "    EmptyImageError(EmptyImageError &&) = default;\n",
        "    EmptyImageError &operator=(EmptyImageError &&) = delete;\n",
        "    ~EmptyImageError() = default;\n",
        "    const char *what() const _GLIBCXX_TXN_SAFE_DYN _GLIBCXX_NOTHROW\n",
        "    {\n",
        "        return m_msg.c_str();\n",
        "    }\n",
        "};\n",
        "\n",
        "#endif // EMPTYIMAGEERROR_H\n"
      ],
      "metadata": {
        "colab": {
          "base_uri": "https://localhost:8080/"
        },
        "id": "oSe7udusXWKD",
        "outputId": "0bbc51b5-d897-4795-e7b4-a037916d206d"
      },
      "execution_count": 15,
      "outputs": [
        {
          "output_type": "stream",
          "name": "stdout",
          "text": [
            "Writing EmptyImageError.h\n"
          ]
        }
      ]
    },
    {
      "cell_type": "code",
      "source": [
        "%%writefile EmptyImagePathError.h\n",
        "#ifndef EMPTYIMAGEPATHERROR_H\n",
        "#define EMPTYIMAGEPATHERROR_H\n",
        "\n",
        "#include <stdexcept>\n",
        "class EmptyImagePathError : public std::exception\n",
        "{\n",
        "private:\n",
        "    std::string m_msg;\n",
        "\n",
        "public:\n",
        "    EmptyImagePathError(const std::string &msg) : m_msg{msg} {}\n",
        "    EmptyImagePathError() = delete;\n",
        "    EmptyImagePathError(const EmptyImagePathError &) = default;\n",
        "    EmptyImagePathError &operator=(const EmptyImagePathError &) = delete;\n",
        "    EmptyImagePathError(EmptyImagePathError &&) = default;\n",
        "    EmptyImagePathError &operator=(EmptyImagePathError &&) = delete;\n",
        "    ~EmptyImagePathError() = default;\n",
        "    const char *what() const _GLIBCXX_TXN_SAFE_DYN _GLIBCXX_NOTHROW\n",
        "    {\n",
        "        return m_msg.c_str();\n",
        "    }\n",
        "};\n",
        "\n",
        "#endif // EMPTYIMAGEPATHERROR_H\n"
      ],
      "metadata": {
        "colab": {
          "base_uri": "https://localhost:8080/"
        },
        "id": "H3_Xj232XeU-",
        "outputId": "4246ef82-3910-4741-e072-d63d91f18735"
      },
      "execution_count": 16,
      "outputs": [
        {
          "output_type": "stream",
          "name": "stdout",
          "text": [
            "Writing EmptyImagePathError.h\n"
          ]
        }
      ]
    },
    {
      "cell_type": "code",
      "source": [
        "%%writefile EmptyWindowNameError.h\n",
        "#ifndef EMPTYWINDOWNAMEERROR_H\n",
        "#define EMPTYWINDOWNAMEERROR_H\n",
        "\n",
        "#include <stdexcept>\n",
        "class EmptyWindowNameError : public std::exception\n",
        "{\n",
        "private:\n",
        "    std::string m_msg;\n",
        "\n",
        "public:\n",
        "    EmptyWindowNameError(const std::string &msg) : m_msg{msg} {}\n",
        "    EmptyWindowNameError() = delete;\n",
        "    EmptyWindowNameError(const EmptyWindowNameError &) = delete;\n",
        "    EmptyWindowNameError &operator=(const EmptyWindowNameError &) = delete;\n",
        "    EmptyWindowNameError(EmptyWindowNameError &&) = default;\n",
        "    EmptyWindowNameError &operator=(EmptyWindowNameError &&) = delete;\n",
        "    ~EmptyWindowNameError() = default;\n",
        "    const char *what() const _GLIBCXX_TXN_SAFE_DYN _GLIBCXX_NOTHROW\n",
        "    {\n",
        "        return m_msg.c_str();\n",
        "    }\n",
        "};\n",
        "\n",
        "#endif // EMPTYWINDOWNAMEERROR_H\n"
      ],
      "metadata": {
        "colab": {
          "base_uri": "https://localhost:8080/"
        },
        "id": "4tHxv-hdXkDq",
        "outputId": "9d380bd5-f267-47e1-928e-1e4e62af26db"
      },
      "execution_count": 17,
      "outputs": [
        {
          "output_type": "stream",
          "name": "stdout",
          "text": [
            "Writing EmptyWindowNameError.h\n"
          ]
        }
      ]
    },
    {
      "cell_type": "code",
      "source": [
        "%%writefile InvalidKernelSizeError.h\n",
        "#ifndef INVALIDKERNELSIZEERROR_H\n",
        "#define INVALIDKERNELSIZEERROR_H\n",
        "\n",
        "#include <stdexcept>\n",
        "class InvalidKernelSizeError : public std::exception\n",
        "{\n",
        "private:\n",
        "    std::string m_msg;\n",
        "\n",
        "public:\n",
        "    InvalidKernelSizeError(const std::string &msg) : m_msg{msg} {}\n",
        "    InvalidKernelSizeError() = delete;\n",
        "    InvalidKernelSizeError(const InvalidKernelSizeError &) = delete;\n",
        "    InvalidKernelSizeError &operator=(const InvalidKernelSizeError &) = delete;\n",
        "    InvalidKernelSizeError(InvalidKernelSizeError &&) = default;\n",
        "    InvalidKernelSizeError &operator=(InvalidKernelSizeError &&) = delete;\n",
        "    ~InvalidKernelSizeError() = default;\n",
        "    const char *what() const _GLIBCXX_TXN_SAFE_DYN _GLIBCXX_NOTHROW\n",
        "    {\n",
        "        return m_msg.c_str();\n",
        "    }\n",
        "};\n",
        "\n",
        "#endif // INVALIDKERNELSIZEERROR_H\n"
      ],
      "metadata": {
        "colab": {
          "base_uri": "https://localhost:8080/"
        },
        "id": "LKR_m43SXpsD",
        "outputId": "81311384-10e4-4be3-fc3c-bd39b3d24a1c"
      },
      "execution_count": 18,
      "outputs": [
        {
          "output_type": "stream",
          "name": "stdout",
          "text": [
            "Writing InvalidKernelSizeError.h\n"
          ]
        }
      ]
    },
    {
      "cell_type": "code",
      "source": [
        "%%writefile Main.cpp\n",
        "#include \"Functionality.h\"\n",
        "#include \"Time.h\"\n",
        "\n",
        "int main()\n",
        "{\n",
        "    std::string imagePath = \"/content/Blur_Version_1/lena.png\";\n",
        "    try\n",
        "    {\n",
        "        Image img(imagePath);\n",
        "\n",
        "        img.display(img.src_rgb(), \"Original Image\");\n",
        "\n",
        "        int kernelSize;\n",
        "        std::cout << \"Enter the kernel size (odd number):\";\n",
        "        std::cin >> kernelSize;\n",
        "\n",
        "        {\n",
        "            Time timer;\n",
        "            try\n",
        "            {\n",
        "                applyFilter(img, kernelSize, FilterType::Box);\n",
        "                applyFilter(img, kernelSize, FilterType::Blur);\n",
        "                applyFilter(img, kernelSize, FilterType::Gaussian);\n",
        "                applyFilter(img, kernelSize, FilterType::Median);\n",
        "            }\n",
        "            catch(const InvalidKernelSizeError& e)\n",
        "            {\n",
        "                std::cerr << e.what() << '\\n';\n",
        "            }\n",
        "            catch(const EmptyWindowNameError& e)\n",
        "            {\n",
        "                std::cerr << e.what() << '\\n';\n",
        "            }\n",
        "\n",
        "        }\n",
        "        img.closeAllWindows();\n",
        "    }\n",
        "    catch (const EmptyImagePathError &e)\n",
        "    {\n",
        "        std::cerr << e.what() << '\\n';\n",
        "    }\n",
        "    catch (const EmptyImageError &e)\n",
        "    {\n",
        "        std::cerr << e.what() << '\\n';\n",
        "    }\n",
        "    return EXIT_SUCCESS;\n",
        "}"
      ],
      "metadata": {
        "colab": {
          "base_uri": "https://localhost:8080/"
        },
        "id": "Q3AoeGZjXwoS",
        "outputId": "215e7356-4352-4b13-cf42-3f07c4f8721c"
      },
      "execution_count": 21,
      "outputs": [
        {
          "output_type": "stream",
          "name": "stdout",
          "text": [
            "Overwriting Main.cpp\n"
          ]
        }
      ]
    },
    {
      "cell_type": "code",
      "source": [
        "%%writefile Time.h\n",
        "#ifndef TIME_H\n",
        "#define TIME_H\n",
        "\n",
        "#include <iostream>\n",
        "#include <memory>\n",
        "\n",
        "#include <chrono>\n",
        "\n",
        "class Time{\n",
        "    private:\n",
        "        std::chrono::time_point<std::chrono::high_resolution_clock> m_StartTimePoint;\n",
        "\n",
        "        void Stop(){\n",
        "            auto endTimePoint = std::chrono::high_resolution_clock::now();\n",
        "\n",
        "            auto start = std::chrono::time_point_cast<std::chrono::microseconds>(m_StartTimePoint).time_since_epoch().count();\n",
        "            auto end = std::chrono::time_point_cast<std::chrono::microseconds>(endTimePoint).time_since_epoch().count();\n",
        "\n",
        "            auto duration = end - start;\n",
        "            double ms = duration * 0.001;\n",
        "\n",
        "            std::cout << \"Time Elapsed: \" << ms << \"ms\\n\";\n",
        "        }\n",
        "\n",
        "    public:\n",
        "    Time(){\n",
        "        m_StartTimePoint = std::chrono::high_resolution_clock::now();\n",
        "    }\n",
        "\n",
        "    ~Time(){\n",
        "        Stop();\n",
        "    }\n",
        "};\n",
        "\n",
        "#endif // TIME_H\n"
      ],
      "metadata": {
        "colab": {
          "base_uri": "https://localhost:8080/"
        },
        "id": "aP0dHHstX0yo",
        "outputId": "890d429c-a21d-4152-eb20-cae2f4370d7d"
      },
      "execution_count": 20,
      "outputs": [
        {
          "output_type": "stream",
          "name": "stdout",
          "text": [
            "Writing Time.h\n"
          ]
        }
      ]
    },
    {
      "cell_type": "code",
      "source": [
        "!cmake -B build"
      ],
      "metadata": {
        "colab": {
          "base_uri": "https://localhost:8080/"
        },
        "id": "f9FrHOIpX_v_",
        "outputId": "2f3d571c-2fd7-4d31-8447-781d740483b3"
      },
      "execution_count": 33,
      "outputs": [
        {
          "output_type": "stream",
          "name": "stdout",
          "text": [
            "-- The C compiler identification is GNU 11.4.0\n",
            "-- The CXX compiler identification is GNU 11.4.0\n",
            "-- Detecting C compiler ABI info\n",
            "-- Detecting C compiler ABI info - done\n",
            "-- Check for working C compiler: /usr/bin/cc - skipped\n",
            "-- Detecting C compile features\n",
            "-- Detecting C compile features - done\n",
            "-- Detecting CXX compiler ABI info\n",
            "-- Detecting CXX compiler ABI info - done\n",
            "-- Check for working CXX compiler: /usr/bin/c++ - skipped\n",
            "-- Detecting CXX compile features\n",
            "-- Detecting CXX compile features - done\n",
            "-- Found OpenCV: /usr (found version \"4.5.4\")\n",
            "-- Configuring done (0.9s)\n",
            "-- Generating done (0.0s)\n",
            "-- Build files have been written to: /content/Blur_Version_1/build\n"
          ]
        }
      ]
    },
    {
      "cell_type": "code",
      "source": [
        "%cd /content/Blur_Version_1/build"
      ],
      "metadata": {
        "colab": {
          "base_uri": "https://localhost:8080/"
        },
        "id": "mOqoUMIJbQhy",
        "outputId": "b20a51a4-c47e-4279-f3ea-82de4f24a2ca"
      },
      "execution_count": 34,
      "outputs": [
        {
          "output_type": "stream",
          "name": "stdout",
          "text": [
            "/content/Blur_Version_1/build\n"
          ]
        }
      ]
    },
    {
      "cell_type": "code",
      "source": [
        "!make"
      ],
      "metadata": {
        "colab": {
          "base_uri": "https://localhost:8080/"
        },
        "id": "CNW2UKdecy1s",
        "outputId": "a72eb4c6-6f31-4f9f-c822-fa2e50513548"
      },
      "execution_count": 35,
      "outputs": [
        {
          "output_type": "stream",
          "name": "stdout",
          "text": [
            "[ 25%] \u001b[32mBuilding CXX object CMakeFiles/blur_filters.dir/Main.cpp.o\u001b[0m\n",
            "[ 50%] \u001b[32mBuilding CXX object CMakeFiles/blur_filters.dir/Image.cpp.o\u001b[0m\n",
            "[ 75%] \u001b[32mBuilding CXX object CMakeFiles/blur_filters.dir/Functionality.cpp.o\u001b[0m\n",
            "[100%] \u001b[32m\u001b[1mLinking CXX executable blur_filters\u001b[0m\n",
            "[100%] Built target blur_filters\n"
          ]
        }
      ]
    },
    {
      "cell_type": "code",
      "source": [
        "!./blur_filters"
      ],
      "metadata": {
        "colab": {
          "base_uri": "https://localhost:8080/"
        },
        "id": "keGfvxfOc0Tq",
        "outputId": "4267ba67-2ea9-4eb4-8ba6-dc46822f51a5"
      },
      "execution_count": 36,
      "outputs": [
        {
          "output_type": "stream",
          "name": "stdout",
          "text": [
            "terminate called after throwing an instance of 'cv::Exception'\n",
            "  what():  OpenCV(4.5.4) ./modules/highgui/src/window_gtk.cpp:635: error: (-2:Unspecified error) Can't initialize GTK backend in function 'cvInitSystem'\n",
            "\n"
          ]
        }
      ]
    },
    {
      "cell_type": "code",
      "source": [],
      "metadata": {
        "id": "VCJaRyENc6BE"
      },
      "execution_count": null,
      "outputs": []
    }
  ]
}